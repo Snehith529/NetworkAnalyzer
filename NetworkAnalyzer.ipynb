{
 "cells": [
  {
   "cell_type": "code",
   "execution_count": 1,
   "metadata": {
    "colab": {
     "base_uri": "https://localhost:8080/"
    },
    "id": "gndvYxAuqZ_S",
    "outputId": "1c909832-5820-45de-e3d7-8efa99b59b14"
   },
   "outputs": [
    {
     "name": "stdout",
     "output_type": "stream",
     "text": [
      "Requirement already satisfied: pyshark in c:\\users\\snehi\\anaconda3\\envs\\new_env\\lib\\site-packages (0.6)\n",
      "Requirement already satisfied: lxml in c:\\users\\snehi\\anaconda3\\envs\\new_env\\lib\\site-packages (from pyshark) (5.3.1)\n",
      "Requirement already satisfied: termcolor in c:\\users\\snehi\\anaconda3\\envs\\new_env\\lib\\site-packages (from pyshark) (2.4.0)\n",
      "Requirement already satisfied: packaging in c:\\users\\snehi\\anaconda3\\envs\\new_env\\lib\\site-packages (from pyshark) (24.1)\n",
      "Requirement already satisfied: appdirs in c:\\users\\snehi\\anaconda3\\envs\\new_env\\lib\\site-packages (from pyshark) (1.4.4)\n"
     ]
    }
   ],
   "source": [
    "!pip install pyshark"
   ]
  },
  {
   "cell_type": "markdown",
   "metadata": {
    "id": "ITNP6p3Yrd9C"
   },
   "source": [
    "## Network Traffic Analyzer using Python and PyShark\n",
    "## Developed for monitoring and analyzing network traffic using CCNAv7 concepts (VLANs, routing)\n",
    "### Tech Stack: Python, NumPy, Pandas, PyShark\n"
   ]
  },
  {
   "cell_type": "code",
   "execution_count": 2,
   "metadata": {
    "id": "L2ZSVLzGqRdv"
   },
   "outputs": [],
   "source": [
    "import pandas as pd\n",
    "import numpy as np\n",
    "import pyshark\n",
    "import asyncio"
   ]
  },
  {
   "cell_type": "code",
   "execution_count": null,
   "metadata": {
    "id": "XPhAe_o5qOHb"
   },
   "outputs": [],
   "source": [
    "\n",
    "class NetworkTrafficAnalyzer:\n",
    "    def __init__(self, interface):\n",
    "        self.interface = interface\n",
    "        self.capture = None\n",
    "        self.data = []\n",
    "\n",
    "    def start_capture(self):\n",
    "        print(f\"Starting capture on interface: {self.interface}\")\n",
    "        self.capture = pyshark.LiveCapture(interface=self.interface)\n",
    "\n",
    "    def analyze_packet(self, packet):\n",
    "        try:\n",
    "            protocol = packet.transport_layer if packet.transport_layer else 'Unknown'\n",
    "            src_ip = packet.ip.src if hasattr(packet, 'ip') else 'N/A'\n",
    "            dst_ip = packet.ip.dst if hasattr(packet, 'ip') else 'N/A'\n",
    "            length = int(packet.length) if hasattr(packet, 'length') else 0\n",
    "            vlan_id = packet.vlan.id if hasattr(packet, 'vlan') else 'N/A'\n",
    "            return {'Protocol': protocol, 'Source IP': src_ip, 'Destination IP': dst_ip, 'Length': length, 'VLAN ID': vlan_id}\n",
    "        except AttributeError as e:\n",
    "            print(f\"Skipping packet due to missing attributes: {e}\")\n",
    "            return None\n",
    "\n",
    "    async def analyze_traffic_async(self, packet_count=50):\n",
    "        print(\"Analyzing traffic...\")\n",
    "        try:\n",
    "            async for packet in self.capture.sniff_continuously(packet_count=packet_count):\n",
    "                analysis = self.analyze_packet(packet)\n",
    "                if analysis:\n",
    "                    self.data.append(analysis)\n",
    "            if self.data:\n",
    "                df = pd.DataFrame(self.data)\n",
    "                print(\"Traffic Analysis (First 5 packets):\")\n",
    "                print(df.head())\n",
    "            else:\n",
    "                print(\"No valid packets captured.\")\n",
    "        except Exception as e:\n",
    "            print(f\"Error during traffic analysis: {e}\")\n",
    "\n",
    "    def save_analysis(self, filename=\"traffic_analysis.csv\"):\n",
    "        if not self.data:\n",
    "            print(\"No data to save.\")\n",
    "            return\n",
    "        print(f\"Saving analysis to {filename}\")\n",
    "        df = pd.DataFrame(self.data)\n",
    "        df.to_csv(filename, index=False)\n",
    "        print(\"File saved successfully.\")"
   ]
  },
  {
   "cell_type": "code",
   "execution_count": null,
   "metadata": {},
   "outputs": [],
   "source": [
    "## Run in Jupyter/IPython\n",
    "interface = input(\"Enter network interface (e.g., eth0, Ethernet): \")\n",
    "analyzer = NetworkTrafficAnalyzer(interface)\n",
    "analyzer.start_capture()\n",
    "# Use the existing event loop\n",
    "loop = asyncio.get_event_loop()\n",
    "loop.run_until_complete(analyzer.analyze_traffic_async(packet_count=50))\n",
    "analyzer.save_analysis()"
   ]
  }
 ],
 "metadata": {
  "colab": {
   "provenance": []
  },
  "kernelspec": {
   "display_name": "Python 3 (ipykernel)",
   "language": "python",
   "name": "python3"
  },
  "language_info": {
   "codemirror_mode": {
    "name": "ipython",
    "version": 3
   },
   "file_extension": ".py",
   "mimetype": "text/x-python",
   "name": "python",
   "nbconvert_exporter": "python",
   "pygments_lexer": "ipython3",
   "version": "3.8.17"
  }
 },
 "nbformat": 4,
 "nbformat_minor": 4
}
